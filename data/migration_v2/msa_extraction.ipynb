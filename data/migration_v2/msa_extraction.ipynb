{
 "cells": [
  {
   "cell_type": "code",
   "execution_count": 1,
   "id": "interstate-bleeding",
   "metadata": {},
   "outputs": [],
   "source": [
    "import numpy as np\n",
    "import pandas as pd\n",
    "from tqdm import tqdm"
   ]
  },
  {
   "cell_type": "code",
   "execution_count": 2,
   "id": "stretch-facing",
   "metadata": {},
   "outputs": [],
   "source": [
    "YEARS = range(1990, 2019) #2019)"
   ]
  },
  {
   "cell_type": "code",
   "execution_count": null,
   "id": "decent-connection",
   "metadata": {},
   "outputs": [],
   "source": []
  },
  {
   "cell_type": "code",
   "execution_count": 3,
   "id": "loaded-variation",
   "metadata": {},
   "outputs": [],
   "source": [
    "dfs = []\n",
    "for i in YEARS:\n",
    "    df_ = pd.read_csv('origin/IRS_Migration_Matrix_%d.csv' % i,\n",
    "                      header=0, \n",
    "                      dtype={'Unnamed: 0': str})\n",
    "    df_.index = df_['Unnamed: 0']\n",
    "    df_.rename(columns={'Unnamed: 0': 'fipscounty'}, inplace=True)\n",
    "    dfs.append(df_)\n",
    "    "
   ]
  },
  {
   "cell_type": "code",
   "execution_count": 41,
   "id": "assured-furniture",
   "metadata": {},
   "outputs": [],
   "source": [
    "meta_df = pd.read_csv('origin/CountyName_MSAName.csv', \n",
    "                      dtype={'fipscounty': str, 'msa':str} )\n",
    "meta_df = meta_df.drop_duplicates()\n",
    "meta_df = meta_df.dropna(subset=['msa'])"
   ]
  },
  {
   "cell_type": "code",
   "execution_count": 42,
   "id": "cec19e16-2fa6-4371-bbdc-88bb04e9f3de",
   "metadata": {},
   "outputs": [
    {
     "data": {
      "text/plain": [
       "0        True\n",
       "1        True\n",
       "2       False\n",
       "3       False\n",
       "4        True\n",
       "        ...  \n",
       "3288    False\n",
       "3289     True\n",
       "3290     True\n",
       "3291     True\n",
       "3292    False\n",
       "Name: msa, Length: 3288, dtype: bool"
      ]
     },
     "execution_count": 42,
     "metadata": {},
     "output_type": "execute_result"
    }
   ],
   "source": [
    "meta_df.loc[:, 'msa'].map(lambda x: len(x))>2"
   ]
  },
  {
   "cell_type": "code",
   "execution_count": 44,
   "id": "c56669fa-3fc6-4947-a02b-512673967e73",
   "metadata": {},
   "outputs": [
    {
     "data": {
      "text/plain": [
       "1"
      ]
     },
     "execution_count": 44,
     "metadata": {},
     "output_type": "execute_result"
    }
   ],
   "source": [
    "sum(meta_df.loc[:, 'msa'] == '0040')"
   ]
  },
  {
   "cell_type": "code",
   "execution_count": 31,
   "id": "neither-consumption",
   "metadata": {},
   "outputs": [],
   "source": [
    "meta_df = meta_df.loc[meta_df.loc[:, 'msa'].map(lambda x: len(x))>2, :]"
   ]
  },
  {
   "cell_type": "code",
   "execution_count": 32,
   "id": "significant-poverty",
   "metadata": {},
   "outputs": [],
   "source": [
    "# df_t = meta_df[['fipscounty', 'msa', 'msaname']]\n",
    "# df_t = df_t.drop_duplicates()\n",
    "# df_t = df_t.dropna(subset=['msa'])\n",
    "\n",
    "#df_t.to_csv('origin/msa_name.csv')\n",
    "#meta_df.loc[meta_df.msa == '31', :]"
   ]
  },
  {
   "cell_type": "code",
   "execution_count": 33,
   "id": "vital-neighbor",
   "metadata": {},
   "outputs": [],
   "source": [
    "meta_df = meta_df[['fipscounty', 'msa', 'msaname']]"
   ]
  },
  {
   "cell_type": "code",
   "execution_count": 34,
   "id": "electoral-immune",
   "metadata": {},
   "outputs": [],
   "source": [
    "msa2fips = {}\n",
    "for name, gr in meta_df.groupby('msa'):\n",
    "    tmp = list(set(gr['fipscounty'].to_list()))\n",
    "    msa2fips[name] = []\n",
    "    for df in dfs:\n",
    "        for fips in tmp:\n",
    "            if fips in df.index:\n",
    "                msa2fips[name].append(fips)\n",
    "for k, v in msa2fips.items():\n",
    "    msa2fips[k] = list(set(v))"
   ]
  },
  {
   "cell_type": "code",
   "execution_count": 45,
   "id": "copyrighted-specification",
   "metadata": {},
   "outputs": [
    {
     "data": {
      "text/plain": [
       "854"
      ]
     },
     "execution_count": 45,
     "metadata": {},
     "output_type": "execute_result"
    }
   ],
   "source": [
    "sum([len(v) for k, v in msa2fips.items()])"
   ]
  },
  {
   "cell_type": "code",
   "execution_count": 46,
   "id": "e12af5f5-7283-49a8-8dd2-77b2a1b5cc04",
   "metadata": {},
   "outputs": [
    {
     "data": {
      "text/plain": [
       "324"
      ]
     },
     "execution_count": 46,
     "metadata": {},
     "output_type": "execute_result"
    }
   ],
   "source": [
    "len(msa2fips)"
   ]
  },
  {
   "cell_type": "code",
   "execution_count": null,
   "id": "younger-munich",
   "metadata": {},
   "outputs": [
    {
     "name": "stderr",
     "output_type": "stream",
     "text": [
      "2it [03:27, 103.83s/it]"
     ]
    }
   ],
   "source": [
    "num_msa = len(msa2fips)\n",
    "list_msa = list(msa2fips.keys())\n",
    "for i, df in tqdm(enumerate(dfs)):\n",
    "    dff = pd.DataFrame(np.zeros((num_msa, num_msa)), \n",
    "                       columns=list_msa, \n",
    "                       index=list_msa)\n",
    "    for transmitter in list_msa:\n",
    "        for receiver in list_msa:\n",
    "            t_indices = msa2fips[transmitter]\n",
    "            r_indices = msa2fips[receiver]\n",
    "\n",
    "            np_node = df.loc[t_indices, r_indices].to_numpy()\n",
    "            if transmitter == receiver:\n",
    "                dff.loc[transmitter, receiver] = np.sum(np_node) - np.sum(np.diagonal(np_node))\n",
    "            else:\n",
    "                dff.loc[transmitter, receiver] = np.sum(np_node)\n",
    "    dff.to_csv('./msa/IRS_Migration_Matrix_%d.csv' % YEARS[i])"
   ]
  },
  {
   "cell_type": "code",
   "execution_count": 38,
   "id": "ef4324cb-71ff-4704-92de-7929cc0d433a",
   "metadata": {},
   "outputs": [
    {
     "data": {
      "text/plain": [
       "23"
      ]
     },
     "execution_count": 38,
     "metadata": {},
     "output_type": "execute_result"
    }
   ],
   "source": [
    "2012-1990+1"
   ]
  },
  {
   "cell_type": "code",
   "execution_count": 47,
   "id": "informative-female",
   "metadata": {},
   "outputs": [
    {
     "name": "stderr",
     "output_type": "stream",
     "text": [
      "29it [14:28, 29.94s/it] \n"
     ]
    }
   ],
   "source": [
    "num_msa = len(msa2fips)\n",
    "list_msa = list(msa2fips.keys())\n",
    "for i, df in tqdm(enumerate(dfs)):\n",
    "    if i < 23:\n",
    "        continue\n",
    "    dff = pd.DataFrame(np.zeros((num_msa, num_msa)), \n",
    "                       columns=list_msa, \n",
    "                       index=list_msa)\n",
    "    for transmitter in list_msa:\n",
    "        for receiver in list_msa:\n",
    "            t_indices = msa2fips[transmitter]\n",
    "            r_indices = msa2fips[receiver]\n",
    "\n",
    "            np_node = df.loc[df.index.intersection(t_indices), \n",
    "                             df.index.intersection(r_indices)].to_numpy()\n",
    "            if transmitter == receiver:\n",
    "                dff.loc[transmitter, receiver] = np.sum(np_node) - np.sum(np.diagonal(np_node))\n",
    "            else:\n",
    "                dff.loc[transmitter, receiver] = np.sum(np_node)\n",
    "    dff.to_csv('./msa/IRS_Migration_Matrix_%d.csv' % YEARS[i])"
   ]
  },
  {
   "cell_type": "code",
   "execution_count": null,
   "id": "adequate-spotlight",
   "metadata": {},
   "outputs": [],
   "source": [
    "df.loc[df.index.intersection(['01000']), df.index.intersection(['01000'])]"
   ]
  },
  {
   "cell_type": "code",
   "execution_count": null,
   "id": "honest-brother",
   "metadata": {},
   "outputs": [],
   "source": [
    "df.index.intersection(['01000'])"
   ]
  },
  {
   "cell_type": "code",
   "execution_count": null,
   "id": "informal-parameter",
   "metadata": {},
   "outputs": [],
   "source": []
  },
  {
   "cell_type": "code",
   "execution_count": null,
   "id": "global-mapping",
   "metadata": {},
   "outputs": [],
   "source": []
  }
 ],
 "metadata": {
  "kernelspec": {
   "display_name": "Python 3 (ipykernel)",
   "language": "python",
   "name": "python3"
  },
  "language_info": {
   "codemirror_mode": {
    "name": "ipython",
    "version": 3
   },
   "file_extension": ".py",
   "mimetype": "text/x-python",
   "name": "python",
   "nbconvert_exporter": "python",
   "pygments_lexer": "ipython3",
   "version": "3.9.5"
  }
 },
 "nbformat": 4,
 "nbformat_minor": 5
}
