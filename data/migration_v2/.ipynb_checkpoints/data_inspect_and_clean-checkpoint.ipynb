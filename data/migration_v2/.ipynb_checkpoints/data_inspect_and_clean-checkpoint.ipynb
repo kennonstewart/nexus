{
 "cells": [
  {
   "cell_type": "code",
   "execution_count": 1,
   "id": "geological-perception",
   "metadata": {},
   "outputs": [],
   "source": [
    "import numpy as np\n",
    "import pandas as pd"
   ]
  },
  {
   "cell_type": "code",
   "execution_count": 2,
   "id": "practical-spencer",
   "metadata": {},
   "outputs": [],
   "source": [
    "YEARS = range(1990, 2019)"
   ]
  },
  {
   "cell_type": "code",
   "execution_count": null,
   "id": "higher-distinction",
   "metadata": {},
   "outputs": [],
   "source": []
  },
  {
   "cell_type": "code",
   "execution_count": 5,
   "id": "designed-royalty",
   "metadata": {},
   "outputs": [],
   "source": [
    "dfs = []\n",
    "for i in YEARS:\n",
    "    df_ = pd.read_csv('origin/IRS_Migration_Matrix_%d.csv' % i, header=0, dtype={'Unnamed: 0': str})\n",
    "    df_.index = df_['Unnamed: 0']\n",
    "    del df_['Unnamed: 0']\n",
    "    dfs.append(df_)\n",
    "    "
   ]
  },
  {
   "cell_type": "code",
   "execution_count": 7,
   "id": "public-carpet",
   "metadata": {},
   "outputs": [
    {
     "name": "stdout",
     "output_type": "stream",
     "text": [
      "Number of years: 29\n",
      "Number of counties:\n",
      "Year: 1990 - #Counties: 3435\n",
      "Year: 1991 - #Counties: 3435\n",
      "Year: 1992 - #Counties: 3435\n",
      "Year: 1993 - #Counties: 3435\n",
      "Year: 1994 - #Counties: 3435\n",
      "Year: 1995 - #Counties: 3435\n",
      "Year: 1996 - #Counties: 3435\n",
      "Year: 1997 - #Counties: 3435\n",
      "Year: 1998 - #Counties: 3435\n",
      "Year: 1999 - #Counties: 3435\n",
      "Year: 2000 - #Counties: 3435\n",
      "Year: 2001 - #Counties: 3435\n",
      "Year: 2002 - #Counties: 3435\n",
      "Year: 2003 - #Counties: 3435\n",
      "Year: 2004 - #Counties: 3435\n",
      "Year: 2005 - #Counties: 3435\n",
      "Year: 2006 - #Counties: 3435\n",
      "Year: 2007 - #Counties: 3435\n",
      "Year: 2008 - #Counties: 3435\n",
      "Year: 2009 - #Counties: 3435\n",
      "Year: 2010 - #Counties: 3435\n",
      "Year: 2011 - #Counties: 3209\n",
      "Year: 2012 - #Counties: 3209\n",
      "Year: 2013 - #Counties: 3208\n",
      "Year: 2014 - #Counties: 3208\n",
      "Year: 2015 - #Counties: 3208\n",
      "Year: 2016 - #Counties: 3207\n",
      "Year: 2017 - #Counties: 3207\n",
      "Year: 2018 - #Counties: 3156\n"
     ]
    }
   ],
   "source": [
    "print('Number of years: %d' % len(dfs))\n",
    "print('Number of counties:')\n",
    "for i, df in enumerate(dfs):\n",
    "    assert df.shape[0] == df.shape[1]\n",
    "    print('Year: %d - #Counties: %s' % (YEARS[i], len(set(list(dfs[i].columns)))))"
   ]
  },
  {
   "cell_type": "code",
   "execution_count": null,
   "id": "intended-animation",
   "metadata": {},
   "outputs": [],
   "source": [
    "df = dfs[0].copy()\n",
    "print(df[['5113', '05113']].sum())\n",
    "print(df.shape)\n",
    "df.loc[df['Unnamed: 0']=='05143', :]\n",
    "#np.where(df.columns=='05143')"
   ]
  },
  {
   "cell_type": "code",
   "execution_count": null,
   "id": "tender-lying",
   "metadata": {},
   "outputs": [],
   "source": [
    "# FIPS_COUNTIES = set(list(dfs[0].columns))\n",
    "# for i, df in enumerate(dfs):\n",
    "#     diff = FIPS_COUNTIES - set(list(df.columns))\n",
    "#     print('Year: %d Diff: %s' % (YEARS[i], str(diff)))"
   ]
  },
  {
   "cell_type": "code",
   "execution_count": 11,
   "id": "continental-portal",
   "metadata": {},
   "outputs": [],
   "source": [
    "meta_df = pd.read_csv('origin/CountyName_MSAName.csv', dtype={'fipscounty': str})"
   ]
  },
  {
   "cell_type": "code",
   "execution_count": 12,
   "id": "cosmetic-devon",
   "metadata": {},
   "outputs": [
    {
     "name": "stdout",
     "output_type": "stream",
     "text": [
      "There are 3292 unique counties in which we are interested\n"
     ]
    }
   ],
   "source": [
    "FIPS = set(list(meta_df['fipscounty']))\n",
    "print('There are %d unique counties in which we are interested' % len(FIPS))"
   ]
  },
  {
   "cell_type": "code",
   "execution_count": 13,
   "id": "becoming-miracle",
   "metadata": {},
   "outputs": [],
   "source": [
    "new_dfs = []\n",
    "for df in dfs:\n",
    "    filtering = [fips in FIPS for fips in list(df.columns)]\n",
    "    new_dfs.append(df.iloc[filtering, filtering])"
   ]
  },
  {
   "cell_type": "code",
   "execution_count": 14,
   "id": "royal-appearance",
   "metadata": {},
   "outputs": [
    {
     "name": "stdout",
     "output_type": "stream",
     "text": [
      "Number of counties after filtering:\n",
      "Year: 1990 - #Counties: 3149\n",
      "Year: 1991 - #Counties: 3149\n",
      "Year: 1992 - #Counties: 3149\n",
      "Year: 1993 - #Counties: 3149\n",
      "Year: 1994 - #Counties: 3149\n",
      "Year: 1995 - #Counties: 3149\n",
      "Year: 1996 - #Counties: 3149\n",
      "Year: 1997 - #Counties: 3149\n",
      "Year: 1998 - #Counties: 3149\n",
      "Year: 1999 - #Counties: 3149\n",
      "Year: 2000 - #Counties: 3149\n",
      "Year: 2001 - #Counties: 3149\n",
      "Year: 2002 - #Counties: 3149\n",
      "Year: 2003 - #Counties: 3149\n",
      "Year: 2004 - #Counties: 3149\n",
      "Year: 2005 - #Counties: 3149\n",
      "Year: 2006 - #Counties: 3149\n",
      "Year: 2007 - #Counties: 3149\n",
      "Year: 2008 - #Counties: 3149\n",
      "Year: 2009 - #Counties: 3149\n",
      "Year: 2010 - #Counties: 3149\n",
      "Year: 2011 - #Counties: 3142\n",
      "Year: 2012 - #Counties: 3142\n",
      "Year: 2013 - #Counties: 3141\n",
      "Year: 2014 - #Counties: 3139\n",
      "Year: 2015 - #Counties: 3139\n",
      "Year: 2016 - #Counties: 3139\n",
      "Year: 2017 - #Counties: 3139\n",
      "Year: 2018 - #Counties: 3139\n"
     ]
    }
   ],
   "source": [
    "print('Number of counties after filtering:')\n",
    "for i, df in enumerate(new_dfs):\n",
    "    print('Year: %d - #Counties: %s' % (YEARS[i], len(set(list(df.columns)))))"
   ]
  },
  {
   "cell_type": "code",
   "execution_count": null,
   "id": "arranged-glasgow",
   "metadata": {},
   "outputs": [],
   "source": []
  },
  {
   "cell_type": "code",
   "execution_count": null,
   "id": "introductory-steel",
   "metadata": {},
   "outputs": [],
   "source": []
  },
  {
   "cell_type": "code",
   "execution_count": 15,
   "id": "synthetic-complaint",
   "metadata": {},
   "outputs": [
    {
     "name": "stdout",
     "output_type": "stream",
     "text": [
      "Year: 1990 is OK\n",
      "\n",
      "Year: 1991 is OK\n",
      "\n",
      "Year: 1992 is OK\n",
      "\n",
      "Year: 1993 is OK\n",
      "\n",
      "Year: 1994 is OK\n",
      "\n",
      "Year: 1995 is OK\n",
      "\n",
      "Year: 1996 is OK\n",
      "\n",
      "Year: 1997 is OK\n",
      "\n",
      "Year: 1998 is OK\n",
      "\n",
      "Year: 1999 is OK\n",
      "\n",
      "Year: 2000 is OK\n",
      "\n",
      "Year: 2001 is OK\n",
      "\n",
      "Year: 2002 is OK\n",
      "\n",
      "Year: 2003 is OK\n",
      "\n",
      "Year: 2004 is OK\n",
      "\n",
      "Year: 2005 is OK\n",
      "\n",
      "Year: 2006 is OK\n",
      "\n",
      "Year: 2007 is OK\n",
      "\n",
      "Year: 2008 is OK\n",
      "\n",
      "Year: 2009 is OK\n",
      "\n",
      "Year: 2010 is OK\n",
      "\n",
      "Year: 2011 is inconsistent\n",
      "Year: 2011 Missing: {'02201', '51560', '02280', '15005', '51780', '02232', '02231'}\n",
      "Year: 2011 Redundant: set()\n",
      "\n",
      "Year: 2012 is inconsistent\n",
      "Year: 2012 Missing: {'02201', '51560', '02280', '15005', '51780', '02232', '02231'}\n",
      "Year: 2012 Redundant: set()\n",
      "\n",
      "Year: 2013 is inconsistent\n",
      "Year: 2013 Missing: {'02201', '51515', '02280', '51560', '15005', '51780', '02232', '02231'}\n",
      "Year: 2013 Redundant: set()\n",
      "\n",
      "Year: 2014 is inconsistent\n",
      "Year: 2014 Missing: {'02201', '51515', '02280', '51560', '15005', '51780', '46113', '02232', '02231', '02270'}\n",
      "Year: 2014 Redundant: set()\n",
      "\n",
      "Year: 2015 is inconsistent\n",
      "Year: 2015 Missing: {'02201', '51515', '02280', '51560', '15005', '51780', '46113', '02232', '02231', '02270'}\n",
      "Year: 2015 Redundant: set()\n",
      "\n",
      "Year: 2016 is inconsistent\n",
      "Year: 2016 Missing: {'02201', '51515', '02280', '51560', '15005', '51780', '46113', '02232', '02231', '02270'}\n",
      "Year: 2016 Redundant: set()\n",
      "\n",
      "Year: 2017 is inconsistent\n",
      "Year: 2017 Missing: {'02201', '51515', '02280', '51560', '15005', '51780', '46113', '02232', '02231', '02270'}\n",
      "Year: 2017 Redundant: set()\n",
      "\n",
      "Year: 2018 is inconsistent\n",
      "Year: 2018 Missing: {'02201', '51515', '02280', '51560', '15005', '51780', '46113', '02232', '02231', '02270'}\n",
      "Year: 2018 Redundant: set()\n",
      "\n"
     ]
    }
   ],
   "source": [
    "FIPS_COUNTIES = set(list(new_dfs[0].columns))\n",
    "for i, df in enumerate(new_dfs):\n",
    "    if list(df.columns) != list(new_dfs[0].columns) or list(df.index) != list(new_dfs[0].index):\n",
    "        print('Year: %d is inconsistent' % YEARS[i])\n",
    "    \n",
    "        diff = FIPS_COUNTIES - set(list(df.columns))\n",
    "        print('Year: %d Missing: %s' % (YEARS[i], str(diff)))\n",
    "\n",
    "        diff = set(list(df.columns)) - FIPS_COUNTIES\n",
    "        print('Year: %d Redundant: %s' % (YEARS[i], str(diff)))\n",
    "    else:\n",
    "        print('Year: %d is OK' % YEARS[i])\n",
    "\n",
    "    print()"
   ]
  },
  {
   "cell_type": "code",
   "execution_count": null,
   "id": "satisfactory-horizontal",
   "metadata": {},
   "outputs": [],
   "source": [
    "\n",
    "df = new_dfs[0].copy()\n",
    "#list(df.index) == [int(item) for item in df.columns]\n",
    "#df = df.loc[new_dfs[0].index,:]\n",
    "#df.shape\n",
    "#new_dfs[0].index\n",
    "print(df.shape)\n",
    "print(df.index[df.index.duplicated()])\n",
    "df.loc[df.index == 2231, :]\n",
    "#assert (df.index == new_dfs[0].index).all()\n",
    "#temp = df.loc[new_dfs[0].index, :]\n",
    "#\n",
    "#set(list(temp.index)) - set(list(df.index))\n",
    "#len(set(df.index))\n",
    "#df['a'] = df.index\n",
    "#df['dup'] = df.duplicated()\n",
    "#df.loc[df['a'].duplicated(), :]\n",
    "#df.loc[:, '05133']"
   ]
  },
  {
   "cell_type": "code",
   "execution_count": 16,
   "id": "inclusive-today",
   "metadata": {},
   "outputs": [
    {
     "name": "stdout",
     "output_type": "stream",
     "text": [
      "Year: 1990 Missing: set()\n",
      "(3149, 3149)\n",
      "Year: 1991 Missing: set()\n",
      "(3149, 3149)\n",
      "Year: 1992 Missing: set()\n",
      "(3149, 3149)\n",
      "Year: 1993 Missing: set()\n",
      "(3149, 3149)\n",
      "Year: 1994 Missing: set()\n",
      "(3149, 3149)\n",
      "Year: 1995 Missing: set()\n",
      "(3149, 3149)\n",
      "Year: 1996 Missing: set()\n",
      "(3149, 3149)\n",
      "Year: 1997 Missing: set()\n",
      "(3149, 3149)\n",
      "Year: 1998 Missing: set()\n",
      "(3149, 3149)\n",
      "Year: 1999 Missing: set()\n",
      "(3149, 3149)\n",
      "Year: 2000 Missing: set()\n",
      "(3149, 3149)\n",
      "Year: 2001 Missing: set()\n",
      "(3149, 3149)\n",
      "Year: 2002 Missing: set()\n",
      "(3149, 3149)\n",
      "Year: 2003 Missing: set()\n",
      "(3149, 3149)\n",
      "Year: 2004 Missing: set()\n",
      "(3149, 3149)\n",
      "Year: 2005 Missing: set()\n",
      "(3149, 3149)\n",
      "Year: 2006 Missing: set()\n",
      "(3149, 3149)\n",
      "Year: 2007 Missing: set()\n",
      "(3149, 3149)\n",
      "Year: 2008 Missing: set()\n",
      "(3149, 3149)\n",
      "Year: 2009 Missing: set()\n",
      "(3149, 3149)\n",
      "Year: 2010 Missing: set()\n",
      "(3149, 3149)\n",
      "Year: 2011 Missing: {'02201', '51560', '02280', '15005', '51780', '02232', '02231'}\n"
     ]
    },
    {
     "ename": "KeyError",
     "evalue": "\"Passing list-likes to .loc or [] with any missing labels is no longer supported. The following labels were missing: Index(['02201', '02231', '02232', '02280', '15005', '51560', '51780'], dtype='object', name='Unnamed: 0'). See https://pandas.pydata.org/pandas-docs/stable/user_guide/indexing.html#deprecate-loc-reindex-listlike\"",
     "output_type": "error",
     "traceback": [
      "\u001b[0;31m---------------------------------------------------------------------------\u001b[0m",
      "\u001b[0;31mKeyError\u001b[0m                                  Traceback (most recent call last)",
      "\u001b[0;32m<ipython-input-16-2091f29db5a4>\u001b[0m in \u001b[0;36m<module>\u001b[0;34m\u001b[0m\n\u001b[1;32m     11\u001b[0m \u001b[0;34m\u001b[0m\u001b[0m\n\u001b[1;32m     12\u001b[0m     \u001b[0mdf\u001b[0m \u001b[0;34m=\u001b[0m \u001b[0mdf\u001b[0m\u001b[0;34m[\u001b[0m\u001b[0mlist\u001b[0m\u001b[0;34m(\u001b[0m\u001b[0mnew_dfs\u001b[0m\u001b[0;34m[\u001b[0m\u001b[0;36m0\u001b[0m\u001b[0;34m]\u001b[0m\u001b[0;34m.\u001b[0m\u001b[0mcolumns\u001b[0m\u001b[0;34m)\u001b[0m\u001b[0;34m]\u001b[0m\u001b[0;34m\u001b[0m\u001b[0;34m\u001b[0m\u001b[0m\n\u001b[0;32m---> 13\u001b[0;31m     \u001b[0mdf\u001b[0m \u001b[0;34m=\u001b[0m \u001b[0mdf\u001b[0m\u001b[0;34m.\u001b[0m\u001b[0mloc\u001b[0m\u001b[0;34m[\u001b[0m\u001b[0mnew_dfs\u001b[0m\u001b[0;34m[\u001b[0m\u001b[0;36m0\u001b[0m\u001b[0;34m]\u001b[0m\u001b[0;34m.\u001b[0m\u001b[0mindex\u001b[0m\u001b[0;34m,\u001b[0m\u001b[0;34m:\u001b[0m\u001b[0;34m]\u001b[0m\u001b[0;34m\u001b[0m\u001b[0;34m\u001b[0m\u001b[0m\n\u001b[0m\u001b[1;32m     14\u001b[0m     \u001b[0mprint\u001b[0m\u001b[0;34m(\u001b[0m\u001b[0mdf\u001b[0m\u001b[0;34m.\u001b[0m\u001b[0mshape\u001b[0m\u001b[0;34m)\u001b[0m\u001b[0;34m\u001b[0m\u001b[0;34m\u001b[0m\u001b[0m\n\u001b[1;32m     15\u001b[0m     \u001b[0mnew_dfs\u001b[0m\u001b[0;34m[\u001b[0m\u001b[0mi\u001b[0m\u001b[0;34m]\u001b[0m \u001b[0;34m=\u001b[0m \u001b[0mdf\u001b[0m\u001b[0;34m\u001b[0m\u001b[0;34m\u001b[0m\u001b[0m\n",
      "\u001b[0;32m~/.local/lib/python3.8/site-packages/pandas/core/indexing.py\u001b[0m in \u001b[0;36m__getitem__\u001b[0;34m(self, key)\u001b[0m\n\u001b[1;32m    871\u001b[0m                     \u001b[0;31m# AttributeError for IntervalTree get_value\u001b[0m\u001b[0;34m\u001b[0m\u001b[0;34m\u001b[0m\u001b[0;34m\u001b[0m\u001b[0m\n\u001b[1;32m    872\u001b[0m                     \u001b[0;32mpass\u001b[0m\u001b[0;34m\u001b[0m\u001b[0;34m\u001b[0m\u001b[0m\n\u001b[0;32m--> 873\u001b[0;31m             \u001b[0;32mreturn\u001b[0m \u001b[0mself\u001b[0m\u001b[0;34m.\u001b[0m\u001b[0m_getitem_tuple\u001b[0m\u001b[0;34m(\u001b[0m\u001b[0mkey\u001b[0m\u001b[0;34m)\u001b[0m\u001b[0;34m\u001b[0m\u001b[0;34m\u001b[0m\u001b[0m\n\u001b[0m\u001b[1;32m    874\u001b[0m         \u001b[0;32melse\u001b[0m\u001b[0;34m:\u001b[0m\u001b[0;34m\u001b[0m\u001b[0;34m\u001b[0m\u001b[0m\n\u001b[1;32m    875\u001b[0m             \u001b[0;31m# we by definition only have the 0th axis\u001b[0m\u001b[0;34m\u001b[0m\u001b[0;34m\u001b[0m\u001b[0;34m\u001b[0m\u001b[0m\n",
      "\u001b[0;32m~/.local/lib/python3.8/site-packages/pandas/core/indexing.py\u001b[0m in \u001b[0;36m_getitem_tuple\u001b[0;34m(self, tup)\u001b[0m\n\u001b[1;32m   1053\u001b[0m             \u001b[0;32mreturn\u001b[0m \u001b[0mself\u001b[0m\u001b[0;34m.\u001b[0m\u001b[0m_multi_take\u001b[0m\u001b[0;34m(\u001b[0m\u001b[0mtup\u001b[0m\u001b[0;34m)\u001b[0m\u001b[0;34m\u001b[0m\u001b[0;34m\u001b[0m\u001b[0m\n\u001b[1;32m   1054\u001b[0m \u001b[0;34m\u001b[0m\u001b[0m\n\u001b[0;32m-> 1055\u001b[0;31m         \u001b[0;32mreturn\u001b[0m \u001b[0mself\u001b[0m\u001b[0;34m.\u001b[0m\u001b[0m_getitem_tuple_same_dim\u001b[0m\u001b[0;34m(\u001b[0m\u001b[0mtup\u001b[0m\u001b[0;34m)\u001b[0m\u001b[0;34m\u001b[0m\u001b[0;34m\u001b[0m\u001b[0m\n\u001b[0m\u001b[1;32m   1056\u001b[0m \u001b[0;34m\u001b[0m\u001b[0m\n\u001b[1;32m   1057\u001b[0m     \u001b[0;32mdef\u001b[0m \u001b[0m_get_label\u001b[0m\u001b[0;34m(\u001b[0m\u001b[0mself\u001b[0m\u001b[0;34m,\u001b[0m \u001b[0mlabel\u001b[0m\u001b[0;34m,\u001b[0m \u001b[0maxis\u001b[0m\u001b[0;34m:\u001b[0m \u001b[0mint\u001b[0m\u001b[0;34m)\u001b[0m\u001b[0;34m:\u001b[0m\u001b[0;34m\u001b[0m\u001b[0;34m\u001b[0m\u001b[0m\n",
      "\u001b[0;32m~/.local/lib/python3.8/site-packages/pandas/core/indexing.py\u001b[0m in \u001b[0;36m_getitem_tuple_same_dim\u001b[0;34m(self, tup)\u001b[0m\n\u001b[1;32m    748\u001b[0m                 \u001b[0;32mcontinue\u001b[0m\u001b[0;34m\u001b[0m\u001b[0;34m\u001b[0m\u001b[0m\n\u001b[1;32m    749\u001b[0m \u001b[0;34m\u001b[0m\u001b[0m\n\u001b[0;32m--> 750\u001b[0;31m             \u001b[0mretval\u001b[0m \u001b[0;34m=\u001b[0m \u001b[0mgetattr\u001b[0m\u001b[0;34m(\u001b[0m\u001b[0mretval\u001b[0m\u001b[0;34m,\u001b[0m \u001b[0mself\u001b[0m\u001b[0;34m.\u001b[0m\u001b[0mname\u001b[0m\u001b[0;34m)\u001b[0m\u001b[0;34m.\u001b[0m\u001b[0m_getitem_axis\u001b[0m\u001b[0;34m(\u001b[0m\u001b[0mkey\u001b[0m\u001b[0;34m,\u001b[0m \u001b[0maxis\u001b[0m\u001b[0;34m=\u001b[0m\u001b[0mi\u001b[0m\u001b[0;34m)\u001b[0m\u001b[0;34m\u001b[0m\u001b[0;34m\u001b[0m\u001b[0m\n\u001b[0m\u001b[1;32m    751\u001b[0m             \u001b[0;31m# We should never have retval.ndim < self.ndim, as that should\u001b[0m\u001b[0;34m\u001b[0m\u001b[0;34m\u001b[0m\u001b[0;34m\u001b[0m\u001b[0m\n\u001b[1;32m    752\u001b[0m             \u001b[0;31m#  be handled by the _getitem_lowerdim call above.\u001b[0m\u001b[0;34m\u001b[0m\u001b[0;34m\u001b[0m\u001b[0;34m\u001b[0m\u001b[0m\n",
      "\u001b[0;32m~/.local/lib/python3.8/site-packages/pandas/core/indexing.py\u001b[0m in \u001b[0;36m_getitem_axis\u001b[0;34m(self, key, axis)\u001b[0m\n\u001b[1;32m   1097\u001b[0m                     \u001b[0;32mraise\u001b[0m \u001b[0mValueError\u001b[0m\u001b[0;34m(\u001b[0m\u001b[0;34m\"Cannot index with multidimensional key\"\u001b[0m\u001b[0;34m)\u001b[0m\u001b[0;34m\u001b[0m\u001b[0;34m\u001b[0m\u001b[0m\n\u001b[1;32m   1098\u001b[0m \u001b[0;34m\u001b[0m\u001b[0m\n\u001b[0;32m-> 1099\u001b[0;31m                 \u001b[0;32mreturn\u001b[0m \u001b[0mself\u001b[0m\u001b[0;34m.\u001b[0m\u001b[0m_getitem_iterable\u001b[0m\u001b[0;34m(\u001b[0m\u001b[0mkey\u001b[0m\u001b[0;34m,\u001b[0m \u001b[0maxis\u001b[0m\u001b[0;34m=\u001b[0m\u001b[0maxis\u001b[0m\u001b[0;34m)\u001b[0m\u001b[0;34m\u001b[0m\u001b[0;34m\u001b[0m\u001b[0m\n\u001b[0m\u001b[1;32m   1100\u001b[0m \u001b[0;34m\u001b[0m\u001b[0m\n\u001b[1;32m   1101\u001b[0m             \u001b[0;31m# nested tuple slicing\u001b[0m\u001b[0;34m\u001b[0m\u001b[0;34m\u001b[0m\u001b[0;34m\u001b[0m\u001b[0m\n",
      "\u001b[0;32m~/.local/lib/python3.8/site-packages/pandas/core/indexing.py\u001b[0m in \u001b[0;36m_getitem_iterable\u001b[0;34m(self, key, axis)\u001b[0m\n\u001b[1;32m   1035\u001b[0m \u001b[0;34m\u001b[0m\u001b[0m\n\u001b[1;32m   1036\u001b[0m         \u001b[0;31m# A collection of keys\u001b[0m\u001b[0;34m\u001b[0m\u001b[0;34m\u001b[0m\u001b[0;34m\u001b[0m\u001b[0m\n\u001b[0;32m-> 1037\u001b[0;31m         \u001b[0mkeyarr\u001b[0m\u001b[0;34m,\u001b[0m \u001b[0mindexer\u001b[0m \u001b[0;34m=\u001b[0m \u001b[0mself\u001b[0m\u001b[0;34m.\u001b[0m\u001b[0m_get_listlike_indexer\u001b[0m\u001b[0;34m(\u001b[0m\u001b[0mkey\u001b[0m\u001b[0;34m,\u001b[0m \u001b[0maxis\u001b[0m\u001b[0;34m,\u001b[0m \u001b[0mraise_missing\u001b[0m\u001b[0;34m=\u001b[0m\u001b[0;32mFalse\u001b[0m\u001b[0;34m)\u001b[0m\u001b[0;34m\u001b[0m\u001b[0;34m\u001b[0m\u001b[0m\n\u001b[0m\u001b[1;32m   1038\u001b[0m         return self.obj._reindex_with_indexers(\n\u001b[1;32m   1039\u001b[0m             \u001b[0;34m{\u001b[0m\u001b[0maxis\u001b[0m\u001b[0;34m:\u001b[0m \u001b[0;34m[\u001b[0m\u001b[0mkeyarr\u001b[0m\u001b[0;34m,\u001b[0m \u001b[0mindexer\u001b[0m\u001b[0;34m]\u001b[0m\u001b[0;34m}\u001b[0m\u001b[0;34m,\u001b[0m \u001b[0mcopy\u001b[0m\u001b[0;34m=\u001b[0m\u001b[0;32mTrue\u001b[0m\u001b[0;34m,\u001b[0m \u001b[0mallow_dups\u001b[0m\u001b[0;34m=\u001b[0m\u001b[0;32mTrue\u001b[0m\u001b[0;34m\u001b[0m\u001b[0;34m\u001b[0m\u001b[0m\n",
      "\u001b[0;32m~/.local/lib/python3.8/site-packages/pandas/core/indexing.py\u001b[0m in \u001b[0;36m_get_listlike_indexer\u001b[0;34m(self, key, axis, raise_missing)\u001b[0m\n\u001b[1;32m   1252\u001b[0m             \u001b[0mkeyarr\u001b[0m\u001b[0;34m,\u001b[0m \u001b[0mindexer\u001b[0m\u001b[0;34m,\u001b[0m \u001b[0mnew_indexer\u001b[0m \u001b[0;34m=\u001b[0m \u001b[0max\u001b[0m\u001b[0;34m.\u001b[0m\u001b[0m_reindex_non_unique\u001b[0m\u001b[0;34m(\u001b[0m\u001b[0mkeyarr\u001b[0m\u001b[0;34m)\u001b[0m\u001b[0;34m\u001b[0m\u001b[0;34m\u001b[0m\u001b[0m\n\u001b[1;32m   1253\u001b[0m \u001b[0;34m\u001b[0m\u001b[0m\n\u001b[0;32m-> 1254\u001b[0;31m         \u001b[0mself\u001b[0m\u001b[0;34m.\u001b[0m\u001b[0m_validate_read_indexer\u001b[0m\u001b[0;34m(\u001b[0m\u001b[0mkeyarr\u001b[0m\u001b[0;34m,\u001b[0m \u001b[0mindexer\u001b[0m\u001b[0;34m,\u001b[0m \u001b[0maxis\u001b[0m\u001b[0;34m,\u001b[0m \u001b[0mraise_missing\u001b[0m\u001b[0;34m=\u001b[0m\u001b[0mraise_missing\u001b[0m\u001b[0;34m)\u001b[0m\u001b[0;34m\u001b[0m\u001b[0;34m\u001b[0m\u001b[0m\n\u001b[0m\u001b[1;32m   1255\u001b[0m         \u001b[0;32mreturn\u001b[0m \u001b[0mkeyarr\u001b[0m\u001b[0;34m,\u001b[0m \u001b[0mindexer\u001b[0m\u001b[0;34m\u001b[0m\u001b[0;34m\u001b[0m\u001b[0m\n\u001b[1;32m   1256\u001b[0m \u001b[0;34m\u001b[0m\u001b[0m\n",
      "\u001b[0;32m~/.local/lib/python3.8/site-packages/pandas/core/indexing.py\u001b[0m in \u001b[0;36m_validate_read_indexer\u001b[0;34m(self, key, indexer, axis, raise_missing)\u001b[0m\n\u001b[1;32m   1313\u001b[0m \u001b[0;34m\u001b[0m\u001b[0m\n\u001b[1;32m   1314\u001b[0m                 \u001b[0;32mwith\u001b[0m \u001b[0moption_context\u001b[0m\u001b[0;34m(\u001b[0m\u001b[0;34m\"display.max_seq_items\"\u001b[0m\u001b[0;34m,\u001b[0m \u001b[0;36m10\u001b[0m\u001b[0;34m,\u001b[0m \u001b[0;34m\"display.width\"\u001b[0m\u001b[0;34m,\u001b[0m \u001b[0;36m80\u001b[0m\u001b[0;34m)\u001b[0m\u001b[0;34m:\u001b[0m\u001b[0;34m\u001b[0m\u001b[0;34m\u001b[0m\u001b[0m\n\u001b[0;32m-> 1315\u001b[0;31m                     raise KeyError(\n\u001b[0m\u001b[1;32m   1316\u001b[0m                         \u001b[0;34m\"Passing list-likes to .loc or [] with any missing labels \"\u001b[0m\u001b[0;34m\u001b[0m\u001b[0;34m\u001b[0m\u001b[0m\n\u001b[1;32m   1317\u001b[0m                         \u001b[0;34m\"is no longer supported. \"\u001b[0m\u001b[0;34m\u001b[0m\u001b[0;34m\u001b[0m\u001b[0m\n",
      "\u001b[0;31mKeyError\u001b[0m: \"Passing list-likes to .loc or [] with any missing labels is no longer supported. The following labels were missing: Index(['02201', '02231', '02232', '02280', '15005', '51560', '51780'], dtype='object', name='Unnamed: 0'). See https://pandas.pydata.org/pandas-docs/stable/user_guide/indexing.html#deprecate-loc-reindex-listlike\""
     ]
    }
   ],
   "source": [
    "FIPS_COUNTIES = set(list(new_dfs[0].columns))\n",
    "for i, df in enumerate(new_dfs):\n",
    "    diff = FIPS_COUNTIES - set(list(df.columns))\n",
    "    print('Year: %d Missing: %s' % (YEARS[i], str(diff)))\n",
    "    diff = list(diff)\n",
    "    \n",
    "    df.loc[:, diff] = 0\n",
    "    \n",
    "    for item in diff:\n",
    "        df.loc[item, :] = 0\n",
    "\n",
    "    df = df[list(new_dfs[0].columns)]\n",
    "    df = df.loc[new_dfs[0].index,:]\n",
    "    print(df.shape)\n",
    "    new_dfs[i] = df"
   ]
  },
  {
   "cell_type": "code",
   "execution_count": null,
   "id": "celtic-favor",
   "metadata": {},
   "outputs": [],
   "source": [
    "    \n",
    "FIPS_COUNTIES = set(list(new_dfs[0].columns))\n",
    "for i, df in enumerate(new_dfs):\n",
    "    if list(df.columns) != list(new_dfs[0].columns) or list(df.index) != list(new_dfs[0].index):\n",
    "        print('Year: %d is inconsistent' % YEARS[i])\n",
    "    \n",
    "        diff = FIPS_COUNTIES - set(list(df.columns))\n",
    "        print('Year: %d Missing: %s' % (YEARS[i], str(diff)))\n",
    "\n",
    "        diff = set(list(df.columns)) - FIPS_COUNTIES\n",
    "        print('Year: %d Redundant: %s' % (YEARS[i], str(diff)))\n",
    "    else:\n",
    "        print('Year: %d is OK' % YEARS[i])\n",
    "\n",
    "    print()"
   ]
  },
  {
   "cell_type": "code",
   "execution_count": null,
   "id": "fitting-stuff",
   "metadata": {},
   "outputs": [],
   "source": [
    "new_dfs[2].shape"
   ]
  },
  {
   "cell_type": "code",
   "execution_count": null,
   "id": "designing-evening",
   "metadata": {},
   "outputs": [],
   "source": [
    "for i, df in enumerate(new_dfs):\n",
    "    df.to_csv('IRS_Migration_Matrix_%d.csv' % (YEARS[i]))"
   ]
  },
  {
   "cell_type": "code",
   "execution_count": null,
   "id": "substantial-exhibition",
   "metadata": {},
   "outputs": [],
   "source": [
    "df = new_dfs[0]\n",
    "df['FIPS'] = df.columns\n",
    "df[['FIPS']].to_csv('fips.csv', index=None)"
   ]
  },
  {
   "cell_type": "code",
   "execution_count": null,
   "id": "indie-austria",
   "metadata": {},
   "outputs": [],
   "source": []
  }
 ],
 "metadata": {
  "kernelspec": {
   "display_name": "Python 3",
   "language": "python",
   "name": "python3"
  },
  "language_info": {
   "codemirror_mode": {
    "name": "ipython",
    "version": 3
   },
   "file_extension": ".py",
   "mimetype": "text/x-python",
   "name": "python",
   "nbconvert_exporter": "python",
   "pygments_lexer": "ipython3",
   "version": "3.8.10"
  }
 },
 "nbformat": 4,
 "nbformat_minor": 5
}
