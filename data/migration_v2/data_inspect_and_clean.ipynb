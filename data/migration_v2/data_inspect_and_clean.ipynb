{
 "cells": [
  {
   "cell_type": "code",
   "execution_count": 1,
   "id": "sexual-andorra",
   "metadata": {},
   "outputs": [],
   "source": [
    "import numpy as np\n",
    "import pandas as pd"
   ]
  },
  {
   "cell_type": "code",
   "execution_count": 2,
   "id": "functional-brake",
   "metadata": {},
   "outputs": [],
   "source": [
    "YEARS = range(1990, 2019)"
   ]
  },
  {
   "cell_type": "code",
   "execution_count": null,
   "id": "official-edward",
   "metadata": {},
   "outputs": [],
   "source": []
  },
  {
   "cell_type": "code",
   "execution_count": 3,
   "id": "sunset-courage",
   "metadata": {},
   "outputs": [],
   "source": [
    "dfs = []\n",
    "for i in YEARS:\n",
    "    df_ = pd.read_csv('origin/IRS_Migration_Matrix_%d.csv' % i, header=0, dtype={'Unnamed: 0': str})\n",
    "    df_.index = df_['Unnamed: 0']\n",
    "    del df_['Unnamed: 0']\n",
    "    dfs.append(df_)\n",
    "    "
   ]
  },
  {
   "cell_type": "code",
   "execution_count": 4,
   "id": "forced-vermont",
   "metadata": {},
   "outputs": [
    {
     "name": "stdout",
     "output_type": "stream",
     "text": [
      "Number of years: 29\n",
      "Number of counties:\n",
      "Year: 1990 - #Counties: 3435\n",
      "Year: 1991 - #Counties: 3435\n",
      "Year: 1992 - #Counties: 3435\n",
      "Year: 1993 - #Counties: 3435\n",
      "Year: 1994 - #Counties: 3435\n",
      "Year: 1995 - #Counties: 3435\n",
      "Year: 1996 - #Counties: 3435\n",
      "Year: 1997 - #Counties: 3435\n",
      "Year: 1998 - #Counties: 3435\n",
      "Year: 1999 - #Counties: 3435\n",
      "Year: 2000 - #Counties: 3435\n",
      "Year: 2001 - #Counties: 3435\n",
      "Year: 2002 - #Counties: 3435\n",
      "Year: 2003 - #Counties: 3435\n",
      "Year: 2004 - #Counties: 3435\n",
      "Year: 2005 - #Counties: 3435\n",
      "Year: 2006 - #Counties: 3435\n",
      "Year: 2007 - #Counties: 3435\n",
      "Year: 2008 - #Counties: 3435\n",
      "Year: 2009 - #Counties: 3435\n",
      "Year: 2010 - #Counties: 3435\n",
      "Year: 2011 - #Counties: 3209\n",
      "Year: 2012 - #Counties: 3209\n",
      "Year: 2013 - #Counties: 3208\n",
      "Year: 2014 - #Counties: 3208\n",
      "Year: 2015 - #Counties: 3208\n",
      "Year: 2016 - #Counties: 3207\n",
      "Year: 2017 - #Counties: 3207\n",
      "Year: 2018 - #Counties: 3156\n"
     ]
    }
   ],
   "source": [
    "print('Number of years: %d' % len(dfs))\n",
    "print('Number of counties:')\n",
    "for i, df in enumerate(dfs):\n",
    "    assert df.shape[0] == df.shape[1]\n",
    "    print('Year: %d - #Counties: %s' % (YEARS[i], len(set(list(dfs[i].columns)))))"
   ]
  },
  {
   "cell_type": "code",
   "execution_count": 6,
   "id": "expanded-consciousness",
   "metadata": {},
   "outputs": [],
   "source": [
    "# FIPS_COUNTIES = set(list(dfs[0].columns))\n",
    "# for i, df in enumerate(dfs):\n",
    "#     diff = FIPS_COUNTIES - set(list(df.columns))\n",
    "#     print('Year: %d Diff: %s' % (YEARS[i], str(diff)))"
   ]
  },
  {
   "cell_type": "code",
   "execution_count": 7,
   "id": "missing-vertex",
   "metadata": {},
   "outputs": [],
   "source": [
    "meta_df = pd.read_csv('origin/CountyName_MSAName.csv', dtype={'fipscounty': str})"
   ]
  },
  {
   "cell_type": "code",
   "execution_count": 8,
   "id": "following-primary",
   "metadata": {},
   "outputs": [
    {
     "name": "stdout",
     "output_type": "stream",
     "text": [
      "There are 3292 unique counties in which we are interested\n"
     ]
    }
   ],
   "source": [
    "FIPS = set(list(meta_df['fipscounty']))\n",
    "print('There are %d unique counties in which we are interested' % len(FIPS))"
   ]
  },
  {
   "cell_type": "code",
   "execution_count": 9,
   "id": "prescription-serial",
   "metadata": {},
   "outputs": [],
   "source": [
    "new_dfs = []\n",
    "for df in dfs:\n",
    "    filtering = [fips in FIPS for fips in list(df.columns)]\n",
    "    new_dfs.append(df.iloc[filtering, filtering])"
   ]
  },
  {
   "cell_type": "code",
   "execution_count": 10,
   "id": "acute-appeal",
   "metadata": {},
   "outputs": [
    {
     "name": "stdout",
     "output_type": "stream",
     "text": [
      "Number of counties after filtering:\n",
      "Year: 1990 - #Counties: 3149\n",
      "Year: 1991 - #Counties: 3149\n",
      "Year: 1992 - #Counties: 3149\n",
      "Year: 1993 - #Counties: 3149\n",
      "Year: 1994 - #Counties: 3149\n",
      "Year: 1995 - #Counties: 3149\n",
      "Year: 1996 - #Counties: 3149\n",
      "Year: 1997 - #Counties: 3149\n",
      "Year: 1998 - #Counties: 3149\n",
      "Year: 1999 - #Counties: 3149\n",
      "Year: 2000 - #Counties: 3149\n",
      "Year: 2001 - #Counties: 3149\n",
      "Year: 2002 - #Counties: 3149\n",
      "Year: 2003 - #Counties: 3149\n",
      "Year: 2004 - #Counties: 3149\n",
      "Year: 2005 - #Counties: 3149\n",
      "Year: 2006 - #Counties: 3149\n",
      "Year: 2007 - #Counties: 3149\n",
      "Year: 2008 - #Counties: 3149\n",
      "Year: 2009 - #Counties: 3149\n",
      "Year: 2010 - #Counties: 3149\n",
      "Year: 2011 - #Counties: 3142\n",
      "Year: 2012 - #Counties: 3142\n",
      "Year: 2013 - #Counties: 3141\n",
      "Year: 2014 - #Counties: 3139\n",
      "Year: 2015 - #Counties: 3139\n",
      "Year: 2016 - #Counties: 3139\n",
      "Year: 2017 - #Counties: 3139\n",
      "Year: 2018 - #Counties: 3139\n"
     ]
    }
   ],
   "source": [
    "print('Number of counties after filtering:')\n",
    "for i, df in enumerate(new_dfs):\n",
    "    print('Year: %d - #Counties: %s' % (YEARS[i], len(set(list(df.columns)))))"
   ]
  },
  {
   "cell_type": "code",
   "execution_count": null,
   "id": "natural-forest",
   "metadata": {},
   "outputs": [],
   "source": []
  },
  {
   "cell_type": "code",
   "execution_count": null,
   "id": "reliable-thomson",
   "metadata": {},
   "outputs": [],
   "source": []
  },
  {
   "cell_type": "code",
   "execution_count": 11,
   "id": "italian-drinking",
   "metadata": {},
   "outputs": [
    {
     "name": "stdout",
     "output_type": "stream",
     "text": [
      "Year: 1990 is OK\n",
      "\n",
      "Year: 1991 is OK\n",
      "\n",
      "Year: 1992 is OK\n",
      "\n",
      "Year: 1993 is OK\n",
      "\n",
      "Year: 1994 is OK\n",
      "\n",
      "Year: 1995 is OK\n",
      "\n",
      "Year: 1996 is OK\n",
      "\n",
      "Year: 1997 is OK\n",
      "\n",
      "Year: 1998 is OK\n",
      "\n",
      "Year: 1999 is OK\n",
      "\n",
      "Year: 2000 is OK\n",
      "\n",
      "Year: 2001 is OK\n",
      "\n",
      "Year: 2002 is OK\n",
      "\n",
      "Year: 2003 is OK\n",
      "\n",
      "Year: 2004 is OK\n",
      "\n",
      "Year: 2005 is OK\n",
      "\n",
      "Year: 2006 is OK\n",
      "\n",
      "Year: 2007 is OK\n",
      "\n",
      "Year: 2008 is OK\n",
      "\n",
      "Year: 2009 is OK\n",
      "\n",
      "Year: 2010 is OK\n",
      "\n",
      "Year: 2011 is inconsistent\n",
      "Year: 2011 Missing: {'02201', '51780', '15005', '02232', '51560', '02231', '02280'}\n",
      "Year: 2011 Redundant: set()\n",
      "\n",
      "Year: 2012 is inconsistent\n",
      "Year: 2012 Missing: {'02201', '51780', '15005', '02232', '51560', '02231', '02280'}\n",
      "Year: 2012 Redundant: set()\n",
      "\n",
      "Year: 2013 is inconsistent\n",
      "Year: 2013 Missing: {'02201', '51515', '15005', '02232', '51780', '51560', '02231', '02280'}\n",
      "Year: 2013 Redundant: set()\n",
      "\n",
      "Year: 2014 is inconsistent\n",
      "Year: 2014 Missing: {'02201', '02270', '51515', '15005', '02232', '51780', '51560', '02231', '46113', '02280'}\n",
      "Year: 2014 Redundant: set()\n",
      "\n",
      "Year: 2015 is inconsistent\n",
      "Year: 2015 Missing: {'02201', '02270', '51515', '15005', '02232', '51780', '51560', '02231', '46113', '02280'}\n",
      "Year: 2015 Redundant: set()\n",
      "\n",
      "Year: 2016 is inconsistent\n",
      "Year: 2016 Missing: {'02201', '02270', '51515', '15005', '02232', '51780', '51560', '02231', '46113', '02280'}\n",
      "Year: 2016 Redundant: set()\n",
      "\n",
      "Year: 2017 is inconsistent\n",
      "Year: 2017 Missing: {'02201', '02270', '51515', '15005', '02232', '51780', '51560', '02231', '46113', '02280'}\n",
      "Year: 2017 Redundant: set()\n",
      "\n",
      "Year: 2018 is inconsistent\n",
      "Year: 2018 Missing: {'02201', '02270', '51515', '15005', '02232', '51780', '51560', '02231', '46113', '02280'}\n",
      "Year: 2018 Redundant: set()\n",
      "\n"
     ]
    }
   ],
   "source": [
    "FIPS_COUNTIES = set(list(new_dfs[0].columns))\n",
    "for i, df in enumerate(new_dfs):\n",
    "    if list(df.columns) != list(new_dfs[0].columns) or list(df.index) != list(new_dfs[0].index):\n",
    "        print('Year: %d is inconsistent' % YEARS[i])\n",
    "    \n",
    "        diff = FIPS_COUNTIES - set(list(df.columns))\n",
    "        print('Year: %d Missing: %s' % (YEARS[i], str(diff)))\n",
    "\n",
    "        diff = set(list(df.columns)) - FIPS_COUNTIES\n",
    "        print('Year: %d Redundant: %s' % (YEARS[i], str(diff)))\n",
    "    else:\n",
    "        print('Year: %d is OK' % YEARS[i])\n",
    "\n",
    "    print()"
   ]
  },
  {
   "cell_type": "code",
   "execution_count": 12,
   "id": "consistent-studio",
   "metadata": {},
   "outputs": [
    {
     "name": "stdout",
     "output_type": "stream",
     "text": [
      "Year: 1990 Missing: set()\n",
      "(3149, 3149)\n",
      "Year: 1991 Missing: set()\n",
      "(3149, 3149)\n",
      "Year: 1992 Missing: set()\n",
      "(3149, 3149)\n",
      "Year: 1993 Missing: set()\n",
      "(3149, 3149)\n",
      "Year: 1994 Missing: set()\n",
      "(3149, 3149)\n",
      "Year: 1995 Missing: set()\n",
      "(3149, 3149)\n",
      "Year: 1996 Missing: set()\n",
      "(3149, 3149)\n",
      "Year: 1997 Missing: set()\n",
      "(3149, 3149)\n",
      "Year: 1998 Missing: set()\n",
      "(3149, 3149)\n",
      "Year: 1999 Missing: set()\n",
      "(3149, 3149)\n",
      "Year: 2000 Missing: set()\n",
      "(3149, 3149)\n",
      "Year: 2001 Missing: set()\n",
      "(3149, 3149)\n",
      "Year: 2002 Missing: set()\n",
      "(3149, 3149)\n",
      "Year: 2003 Missing: set()\n",
      "(3149, 3149)\n",
      "Year: 2004 Missing: set()\n",
      "(3149, 3149)\n",
      "Year: 2005 Missing: set()\n",
      "(3149, 3149)\n",
      "Year: 2006 Missing: set()\n",
      "(3149, 3149)\n",
      "Year: 2007 Missing: set()\n",
      "(3149, 3149)\n",
      "Year: 2008 Missing: set()\n",
      "(3149, 3149)\n",
      "Year: 2009 Missing: set()\n",
      "(3149, 3149)\n",
      "Year: 2010 Missing: set()\n",
      "(3149, 3149)\n",
      "Year: 2011 Missing: {'02201', '51780', '15005', '02232', '51560', '02231', '02280'}\n",
      "(3149, 3149)\n",
      "Year: 2012 Missing: {'02201', '51780', '15005', '02232', '51560', '02231', '02280'}\n",
      "(3149, 3149)\n",
      "Year: 2013 Missing: {'02201', '51515', '15005', '02232', '51780', '51560', '02231', '02280'}\n",
      "(3149, 3149)\n",
      "Year: 2014 Missing: {'02201', '02270', '51515', '15005', '02232', '51780', '51560', '02231', '46113', '02280'}\n",
      "(3149, 3149)\n",
      "Year: 2015 Missing: {'02201', '02270', '51515', '15005', '02232', '51780', '51560', '02231', '46113', '02280'}\n",
      "(3149, 3149)\n",
      "Year: 2016 Missing: {'02201', '02270', '51515', '15005', '02232', '51780', '51560', '02231', '46113', '02280'}\n",
      "(3149, 3149)\n",
      "Year: 2017 Missing: {'02201', '02270', '51515', '15005', '02232', '51780', '51560', '02231', '46113', '02280'}\n",
      "(3149, 3149)\n",
      "Year: 2018 Missing: {'02201', '02270', '51515', '15005', '02232', '51780', '51560', '02231', '46113', '02280'}\n",
      "(3149, 3149)\n"
     ]
    }
   ],
   "source": [
    "FIPS_COUNTIES = set(list(new_dfs[0].columns))\n",
    "for i, df in enumerate(new_dfs):\n",
    "    diff = FIPS_COUNTIES - set(list(df.columns))\n",
    "    print('Year: %d Missing: %s' % (YEARS[i], str(diff)))\n",
    "    diff = list(diff)\n",
    "    \n",
    "    df.loc[:, diff] = 0\n",
    "    \n",
    "    for item in diff:\n",
    "        df.loc[item, :] = 0\n",
    "\n",
    "    df = df[list(new_dfs[0].columns)]\n",
    "    df = df.loc[new_dfs[0].index,:]\n",
    "    print(df.shape)\n",
    "    new_dfs[i] = df"
   ]
  },
  {
   "cell_type": "code",
   "execution_count": 13,
   "id": "prescribed-norman",
   "metadata": {},
   "outputs": [
    {
     "name": "stdout",
     "output_type": "stream",
     "text": [
      "Year: 1990 is OK\n",
      "\n",
      "Year: 1991 is OK\n",
      "\n",
      "Year: 1992 is OK\n",
      "\n",
      "Year: 1993 is OK\n",
      "\n",
      "Year: 1994 is OK\n",
      "\n",
      "Year: 1995 is OK\n",
      "\n",
      "Year: 1996 is OK\n",
      "\n",
      "Year: 1997 is OK\n",
      "\n",
      "Year: 1998 is OK\n",
      "\n",
      "Year: 1999 is OK\n",
      "\n",
      "Year: 2000 is OK\n",
      "\n",
      "Year: 2001 is OK\n",
      "\n",
      "Year: 2002 is OK\n",
      "\n",
      "Year: 2003 is OK\n",
      "\n",
      "Year: 2004 is OK\n",
      "\n",
      "Year: 2005 is OK\n",
      "\n",
      "Year: 2006 is OK\n",
      "\n",
      "Year: 2007 is OK\n",
      "\n",
      "Year: 2008 is OK\n",
      "\n",
      "Year: 2009 is OK\n",
      "\n",
      "Year: 2010 is OK\n",
      "\n",
      "Year: 2011 is OK\n",
      "\n",
      "Year: 2012 is OK\n",
      "\n",
      "Year: 2013 is OK\n",
      "\n",
      "Year: 2014 is OK\n",
      "\n",
      "Year: 2015 is OK\n",
      "\n",
      "Year: 2016 is OK\n",
      "\n",
      "Year: 2017 is OK\n",
      "\n",
      "Year: 2018 is OK\n",
      "\n"
     ]
    }
   ],
   "source": [
    "    \n",
    "FIPS_COUNTIES = set(list(new_dfs[0].columns))\n",
    "for i, df in enumerate(new_dfs):\n",
    "    if list(df.columns) != list(new_dfs[0].columns) or list(df.index) != list(new_dfs[0].index):\n",
    "        print('Year: %d is inconsistent' % YEARS[i])\n",
    "    \n",
    "        diff = FIPS_COUNTIES - set(list(df.columns))\n",
    "        print('Year: %d Missing: %s' % (YEARS[i], str(diff)))\n",
    "\n",
    "        diff = set(list(df.columns)) - FIPS_COUNTIES\n",
    "        print('Year: %d Redundant: %s' % (YEARS[i], str(diff)))\n",
    "    else:\n",
    "        print('Year: %d is OK' % YEARS[i])\n",
    "\n",
    "    print()"
   ]
  },
  {
   "cell_type": "code",
   "execution_count": null,
   "id": "hourly-robertson",
   "metadata": {},
   "outputs": [],
   "source": [
    "new_dfs[2].shape"
   ]
  },
  {
   "cell_type": "code",
   "execution_count": 14,
   "id": "cooperative-promise",
   "metadata": {},
   "outputs": [],
   "source": [
    "for i, df in enumerate(new_dfs):\n",
    "    df.to_csv('IRS_Migration_Matrix_%d.csv' % (YEARS[i]))"
   ]
  },
  {
   "cell_type": "code",
   "execution_count": 15,
   "id": "stopped-integer",
   "metadata": {},
   "outputs": [],
   "source": [
    "df = new_dfs[0]\n",
    "df['FIPS'] = df.columns\n",
    "df[['FIPS']].to_csv('fips.csv', index=None)"
   ]
  },
  {
   "cell_type": "code",
   "execution_count": null,
   "id": "controlling-framing",
   "metadata": {},
   "outputs": [],
   "source": []
  }
 ],
 "metadata": {
  "kernelspec": {
   "display_name": "Python 3",
   "language": "python",
   "name": "python3"
  },
  "language_info": {
   "codemirror_mode": {
    "name": "ipython",
    "version": 3
   },
   "file_extension": ".py",
   "mimetype": "text/x-python",
   "name": "python",
   "nbconvert_exporter": "python",
   "pygments_lexer": "ipython3",
   "version": "3.8.10"
  }
 },
 "nbformat": 4,
 "nbformat_minor": 5
}
